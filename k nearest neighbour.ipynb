{
 "cells": [
  {
   "cell_type": "code",
   "execution_count": 110,
   "metadata": {},
   "outputs": [],
   "source": [
    "import numpy as np"
   ]
  },
  {
   "cell_type": "code",
   "execution_count": 111,
   "metadata": {},
   "outputs": [],
   "source": [
    "data = np.loadtxt(open(\"./data/iris.csv\", \"rb\"), delimiter=\",\", usecols=(0,1,2,3))\n",
    "labels = np.loadtxt(open(\"./data/iris.csv\", \"rb\"), delimiter=\",\", dtype=np.string_, usecols=(4))"
   ]
  },
  {
   "cell_type": "code",
   "execution_count": 112,
   "metadata": {
    "scrolled": false
   },
   "outputs": [
    {
     "name": "stdout",
     "output_type": "stream",
     "text": [
      "[[5.1 3.5 1.4 0.2]\n",
      " [4.9 3.  1.4 0.2]\n",
      " [4.7 3.2 1.3 0.2]\n",
      " [4.6 3.1 1.5 0.2]\n",
      " [5.  3.6 1.4 0.2]\n",
      " [5.4 3.9 1.7 0.4]\n",
      " [4.6 3.4 1.4 0.3]\n",
      " [5.  3.4 1.5 0.2]\n",
      " [4.4 2.9 1.4 0.2]\n",
      " [4.9 3.1 1.5 0.1]]\n",
      "(150, 4)\n"
     ]
    }
   ],
   "source": [
    "print(data[:10])\n",
    "print(data.shape)"
   ]
  },
  {
   "cell_type": "code",
   "execution_count": 113,
   "metadata": {
    "scrolled": true
   },
   "outputs": [
    {
     "name": "stdout",
     "output_type": "stream",
     "text": [
      "[b'Iris-setosa' b'Iris-setosa' b'Iris-setosa' b'Iris-setosa'\n",
      " b'Iris-setosa' b'Iris-setosa' b'Iris-setosa' b'Iris-setosa'\n",
      " b'Iris-setosa' b'Iris-setosa']\n",
      "150\n"
     ]
    }
   ],
   "source": [
    "print(labels[:10])\n",
    "print(len(labels))"
   ]
  },
  {
   "cell_type": "code",
   "execution_count": 114,
   "metadata": {},
   "outputs": [],
   "source": [
    "m = data.shape[0]\n",
    "indices = np.arange(m)\n",
    "np.random.shuffle(indices)\n",
    "\n",
    "#Normalize the data (cols)\n",
    "data = data / data.max(axis=0)\n",
    "\n",
    "#Split data into random training and test sets\n",
    "training_indices, test_indices = indices[:(2*m)//3], indices[2*m//3:]\n",
    "training_set, test_set = data[training_indices], data[test_indices]\n",
    "training_labels, test_labels = labels[training_indices], labels[test_indices]"
   ]
  },
  {
   "cell_type": "code",
   "execution_count": 115,
   "metadata": {},
   "outputs": [],
   "source": [
    "#calculate the euclidean distance of example with respect to all rows in data\n",
    "def distance(example, data):\n",
    "    return np.sqrt(np.sum((data-example)**2, axis=1))"
   ]
  },
  {
   "cell_type": "code",
   "execution_count": 116,
   "metadata": {},
   "outputs": [],
   "source": [
    "from scipy import stats\n",
    "def KNN_predict(K, data, labels, example):\n",
    "    #calculate distances\n",
    "    distances = distance(example, data)\n",
    "    #sort the array and get corresponding indexes\n",
    "    sorted_indexes = distances.argsort()\n",
    "    #return the most common label among K points with lowest distance with example\n",
    "    return stats.mode(labels[sorted_indexes[:K]])[0][0]#.decode('UTF-8')"
   ]
  },
  {
   "cell_type": "code",
   "execution_count": 117,
   "metadata": {},
   "outputs": [
    {
     "name": "stdout",
     "output_type": "stream",
     "text": [
      "prediction: b'Iris-versicolor' ground truth: b'Iris-versicolor'\n",
      "prediction: b'Iris-virginica' ground truth: b'Iris-virginica'\n",
      "prediction: b'Iris-virginica' ground truth: b'Iris-virginica'\n",
      "prediction: b'Iris-virginica' ground truth: b'Iris-virginica'\n",
      "prediction: b'Iris-versicolor' ground truth: b'Iris-versicolor'\n",
      "prediction: b'Iris-versicolor' ground truth: b'Iris-versicolor'\n",
      "prediction: b'Iris-virginica' ground truth: b'Iris-virginica'\n",
      "prediction: b'Iris-setosa' ground truth: b'Iris-setosa'\n",
      "prediction: b'Iris-setosa' ground truth: b'Iris-setosa'\n",
      "prediction: b'Iris-setosa' ground truth: b'Iris-setosa'\n",
      "prediction: b'Iris-setosa' ground truth: b'Iris-setosa'\n",
      "prediction: b'Iris-setosa' ground truth: b'Iris-setosa'\n",
      "prediction: b'Iris-versicolor' ground truth: b'Iris-versicolor'\n",
      "prediction: b'Iris-versicolor' ground truth: b'Iris-versicolor'\n",
      "prediction: b'Iris-setosa' ground truth: b'Iris-setosa'\n",
      "prediction: b'Iris-versicolor' ground truth: b'Iris-versicolor'\n",
      "prediction: b'Iris-setosa' ground truth: b'Iris-setosa'\n",
      "prediction: b'Iris-versicolor' ground truth: b'Iris-versicolor'\n",
      "prediction: b'Iris-virginica' ground truth: b'Iris-virginica'\n",
      "prediction: b'Iris-setosa' ground truth: b'Iris-setosa'\n",
      "prediction: b'Iris-setosa' ground truth: b'Iris-setosa'\n",
      "prediction: b'Iris-virginica' ground truth: b'Iris-virginica'\n",
      "prediction: b'Iris-virginica' ground truth: b'Iris-virginica'\n",
      "prediction: b'Iris-setosa' ground truth: b'Iris-setosa'\n",
      "prediction: b'Iris-virginica' ground truth: b'Iris-virginica'\n",
      "prediction: b'Iris-setosa' ground truth: b'Iris-setosa'\n",
      "prediction: b'Iris-virginica' ground truth: b'Iris-virginica'\n",
      "prediction: b'Iris-setosa' ground truth: b'Iris-setosa'\n",
      "prediction: b'Iris-virginica' ground truth: b'Iris-virginica'\n",
      "prediction: b'Iris-setosa' ground truth: b'Iris-setosa'\n",
      "prediction: b'Iris-virginica' ground truth: b'Iris-virginica'\n",
      "prediction: b'Iris-setosa' ground truth: b'Iris-setosa'\n",
      "prediction: b'Iris-setosa' ground truth: b'Iris-setosa'\n",
      "prediction: b'Iris-virginica' ground truth: b'Iris-virginica'\n",
      "prediction: b'Iris-virginica' ground truth: b'Iris-virginica'\n",
      "prediction: b'Iris-virginica' ground truth: b'Iris-virginica'\n",
      "prediction: b'Iris-virginica' ground truth: b'Iris-virginica'\n",
      "prediction: b'Iris-virginica' ground truth: b'Iris-virginica'\n",
      "prediction: b'Iris-virginica' ground truth: b'Iris-virginica'\n",
      "prediction: b'Iris-virginica' ground truth: b'Iris-virginica'\n",
      "prediction: b'Iris-virginica' ground truth: b'Iris-virginica'\n",
      "prediction: b'Iris-virginica' ground truth: b'Iris-virginica'\n",
      "prediction: b'Iris-versicolor' ground truth: b'Iris-versicolor'\n",
      "prediction: b'Iris-versicolor' ground truth: b'Iris-versicolor'\n",
      "prediction: b'Iris-virginica' ground truth: b'Iris-virginica'\n",
      "prediction: b'Iris-virginica' ground truth: b'Iris-versicolor'\n",
      "prediction: b'Iris-setosa' ground truth: b'Iris-setosa'\n",
      "prediction: b'Iris-setosa' ground truth: b'Iris-setosa'\n",
      "prediction: b'Iris-setosa' ground truth: b'Iris-setosa'\n",
      "prediction: b'Iris-versicolor' ground truth: b'Iris-versicolor'\n",
      "Accuracy: 0.98\n"
     ]
    }
   ],
   "source": [
    "K = 3\n",
    "n = test_set.shape[0]\n",
    "num_correct = 0\n",
    "for i in range(n):\n",
    "    example = test_set[i]\n",
    "    pred = KNN_predict(K, training_set, training_labels,example)\n",
    "    print(\"prediction:\", pred, \"ground truth:\",test_labels[i])\n",
    "    if pred == test_labels[i]:\n",
    "        num_correct += 1 \n",
    "print(\"Accuracy:\", num_correct/n)"
   ]
  },
  {
   "cell_type": "code",
   "execution_count": null,
   "metadata": {},
   "outputs": [],
   "source": []
  }
 ],
 "metadata": {
  "kernelspec": {
   "display_name": "Python 3",
   "language": "python",
   "name": "python3"
  },
  "language_info": {
   "codemirror_mode": {
    "name": "ipython",
    "version": 3
   },
   "file_extension": ".py",
   "mimetype": "text/x-python",
   "name": "python",
   "nbconvert_exporter": "python",
   "pygments_lexer": "ipython3",
   "version": "3.7.6"
  }
 },
 "nbformat": 4,
 "nbformat_minor": 4
}
